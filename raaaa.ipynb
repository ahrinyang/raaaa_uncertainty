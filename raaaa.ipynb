{
  "nbformat": 4,
  "nbformat_minor": 0,
  "metadata": {
    "colab": {
      "provenance": []
    },
    "kernelspec": {
      "name": "python3",
      "display_name": "Python 3"
    },
    "language_info": {
      "name": "python"
    }
  },
  "cells": [
    {
      "cell_type": "code",
      "execution_count": null,
      "metadata": {
        "id": "sDW6C9iTzSni",
        "colab": {
          "base_uri": "https://localhost:8080/"
        },
        "outputId": "eda3d729-c6ca-4bf5-e649-dbeb97c45511"
      },
      "outputs": [
        {
          "output_type": "stream",
          "name": "stdout",
          "text": [
            "  Preparing metadata (setup.py) ... \u001b[?25l\u001b[?25hdone\n",
            "  Preparing metadata (setup.py) ... \u001b[?25l\u001b[?25hdone\n",
            "\u001b[2K   \u001b[90m━━━━━━━━━━━━━━━━━━━━━━━━━━━━━━━━━━━━━━━━\u001b[0m \u001b[32m288.3/288.3 kB\u001b[0m \u001b[31m7.3 MB/s\u001b[0m eta \u001b[36m0:00:00\u001b[0m\n",
            "\u001b[2K   \u001b[90m━━━━━━━━━━━━━━━━━━━━━━━━━━━━━━━━━━━━━━━━\u001b[0m \u001b[32m1.2/1.2 MB\u001b[0m \u001b[31m20.5 MB/s\u001b[0m eta \u001b[36m0:00:00\u001b[0m\n",
            "\u001b[2K   \u001b[90m━━━━━━━━━━━━━━━━━━━━━━━━━━━━━━━━━━━━━━━━\u001b[0m \u001b[32m1.9/1.9 MB\u001b[0m \u001b[31m14.8 MB/s\u001b[0m eta \u001b[36m0:00:00\u001b[0m\n",
            "\u001b[?25h  Building wheel for tangelo-gc (setup.py) ... \u001b[?25l\u001b[?25hdone\n",
            "  Building wheel for pubchempy (setup.py) ... \u001b[?25l\u001b[?25hdone\n",
            "Reading package lists... Done\n",
            "Building dependency tree... Done\n",
            "Reading state information... Done\n",
            "git is already the newest version (1:2.34.1-1ubuntu1.11).\n",
            "0 upgraded, 0 newly installed, 0 to remove and 49 not upgraded.\n",
            "Cloning into 'Tangelo-Examples'...\n",
            "remote: Enumerating objects: 2251, done.\u001b[K\n",
            "remote: Counting objects: 100% (213/213), done.\u001b[K\n",
            "remote: Compressing objects: 100% (139/139), done.\u001b[K\n",
            "remote: Total 2251 (delta 98), reused 76 (delta 71), pack-reused 2038 (from 1)\u001b[K\n",
            "Receiving objects: 100% (2251/2251), 10.04 MiB | 22.75 MiB/s, done.\n",
            "Resolving deltas: 100% (1470/1470), done.\n"
          ]
        }
      ],
      "source": [
        "# max is cool\n",
        "try:\n",
        "    import tangelo\n",
        "except ModuleNotFoundError:\n",
        "    !pip install git+https://github.com/goodchemistryco/Tangelo.git@develop --quiet\n",
        "\n",
        "# Download the data folder at https://github.com/goodchemistryco/Tangelo-Examples/tree/main/examples/chemistry/data\n",
        "import os\n",
        "if not os.path.isdir(\"data\"):\n",
        "    !sudo apt install git\n",
        "    !git clone https://github.com/sandbox-quantum/Tangelo-Examples.git\n",
        "    !mkdir data\n",
        "    !cp -a Tangelo-Examples/examples/chemistry/data/. ./data/"
      ]
    },
    {
      "cell_type": "code",
      "source": [
        "!pip install --prefer-binary pyscf==2.3.0"
      ],
      "metadata": {
        "colab": {
          "base_uri": "https://localhost:8080/"
        },
        "id": "4S5Dnqk5zX8H",
        "outputId": "83a3f260-0eef-4ef3-8563-33b4cd18ff19"
      },
      "execution_count": null,
      "outputs": [
        {
          "output_type": "stream",
          "name": "stdout",
          "text": [
            "Collecting pyscf==2.3.0\n",
            "  Downloading pyscf-2.3.0-cp310-cp310-manylinux_2_17_x86_64.manylinux2014_x86_64.whl.metadata (3.1 kB)\n",
            "Requirement already satisfied: numpy!=1.16,!=1.17,>=1.13 in /usr/local/lib/python3.10/dist-packages (from pyscf==2.3.0) (1.26.4)\n",
            "Requirement already satisfied: scipy!=1.5.0,!=1.5.1 in /usr/local/lib/python3.10/dist-packages (from pyscf==2.3.0) (1.13.1)\n",
            "Requirement already satisfied: h5py>=2.7 in /usr/local/lib/python3.10/dist-packages (from pyscf==2.3.0) (3.11.0)\n",
            "Downloading pyscf-2.3.0-cp310-cp310-manylinux_2_17_x86_64.manylinux2014_x86_64.whl (47.2 MB)\n",
            "\u001b[2K   \u001b[90m━━━━━━━━━━━━━━━━━━━━━━━━━━━━━━━━━━━━━━━━\u001b[0m \u001b[32m47.2/47.2 MB\u001b[0m \u001b[31m6.2 MB/s\u001b[0m eta \u001b[36m0:00:00\u001b[0m\n",
            "\u001b[?25hInstalling collected packages: pyscf\n",
            "Successfully installed pyscf-2.3.0\n"
          ]
        }
      ]
    },
    {
      "cell_type": "code",
      "source": [
        "from tangelo import SecondQuantizedMolecule\n",
        "\n",
        "LiH = [('Li', (0, 0, 0)), ('H', (0, 0, 1.5949))]\n",
        "\n",
        "mol_LiH = SecondQuantizedMolecule(LiH, q=0, spin=0, basis=\"6-31g(d,p)\")\n",
        "\n"
      ],
      "metadata": {
        "id": "8wj33hE7zcS-",
        "colab": {
          "base_uri": "https://localhost:8080/"
        },
        "outputId": "a9f7cdb8-0762-49af-91c6-b2840b5a64b2"
      },
      "execution_count": null,
      "outputs": [
        {
          "output_type": "stream",
          "name": "stderr",
          "text": [
            "/usr/local/lib/python3.10/dist-packages/pyscf/dft/libxc.py:772: UserWarning: Since PySCF-2.3, B3LYP (and B3P86) are changed to the VWN-RPA variant, the same to the B3LYP functional in Gaussian and ORCA (issue 1480). To restore the VWN5 definition, you can put the setting \"B3LYP_WITH_VWN5 = True\" in pyscf_conf.py\n",
            "  warnings.warn('Since PySCF-2.3, B3LYP (and B3P86) are changed to the VWN-RPA variant, '\n"
          ]
        }
      ]
    },
    {
      "cell_type": "markdown",
      "source": [
        "Calculate the ground state using classical methods so we have sth to compare the quantum version to."
      ],
      "metadata": {
        "id": "uWj7SEnOzrZW"
      }
    },
    {
      "cell_type": "code",
      "source": [
        "from tangelo.algorithms import FCISolver\n",
        "\n",
        "fci_solver = FCISolver(mol_LiH)\n",
        "ground_energy= fci_solver.simulate()"
      ],
      "metadata": {
        "id": "QupC35qNzvil"
      },
      "execution_count": null,
      "outputs": []
    },
    {
      "cell_type": "markdown",
      "source": [
        "Calculate the ground state using VQE. Should we specify the ansatz?? Which one?"
      ],
      "metadata": {
        "id": "ReZULruJ0ZdL"
      }
    },
    {
      "cell_type": "code",
      "source": [
        "from tangelo.algorithms import VQESolver\n",
        "from tangelo.toolboxes.ansatz_generator.uccsd import UCCSD\n",
        "from tangelo.algorithms.variational import BuiltInAnsatze\n",
        "uccsd_ansatz = UCCSD(molecule=mol_LiH)\n",
        "\n",
        "\n",
        "vqe_solver = VQESolver({\"molecule\": mol_LiH, \"ansatz\": BuiltInAnsatze.UCCSD})\n",
        "vqe_solver.build()\n",
        "LiH_qubit_hamiltonian = vqe_solver.qubit_hamiltonian\n",
        "result = vqe_solver.simulate()\n",
        "#ground_state =result[1]\n",
        "# ground_state= wave function but idk how to do that\n",
        "print(\"Ground state energy (VQE):\", result)"
      ],
      "metadata": {
        "id": "wRtJDp_T0WLk"
      },
      "execution_count": null,
      "outputs": []
    },
    {
      "cell_type": "markdown",
      "source": [
        "Calculate the excited states."
      ],
      "metadata": {
        "id": "-e5mKq1y2V7q"
      }
    },
    {
      "cell_type": "code",
      "source": [
        "# Add initial VQE optimal circuit to the deflation circuits list\n",
        "deflation_circuits = [vqe_solver.optimal_circuit.copy()]\n",
        "\n",
        "# Calculate first and second excited states by adding optimal circuits to deflation_circuits\n",
        "for i in range(2):\n",
        "    vqe_options = {\"molecule\": mol_LiH, \"ansatz\": BuiltInAnsatze.UpCCGSD,\n",
        "                   \"deflation_circuits\": deflation_circuits, \"deflation_coeff\": 0.4}\n",
        "    vqe_solver = VQESolver(vqe_options)\n",
        "    vqe_solver.build()\n",
        "    vqe_energy = vqe_solver.simulate()\n",
        "    print(f\"Excited state #{i+1} \\t VQE energy = {vqe_energy}\")\n",
        "    algorithm_resources[f\"vqe_deflation_state_{i+1}\"] = vqe_solver.get_resources()\n",
        "\n",
        "    deflation_circuits.append(vqe_solver.optimal_circuit.copy())"
      ],
      "metadata": {
        "id": "62m14axv2VP7"
      },
      "execution_count": null,
      "outputs": []
    },
    {
      "cell_type": "markdown",
      "source": [
        "Time evolution. (Suzuki thing)"
      ],
      "metadata": {
        "id": "c2tjtpGZ2i_l"
      }
    },
    {
      "cell_type": "code",
      "source": [
        "# Dictionary of resources for each algorithm\n",
        "algorithm_resources = dict()\n",
        "\n",
        "# Number of Krylov vectors\n",
        "n_krylov = 4\n",
        "# Simulation time for each unitary\n",
        "tau = 0.04\n",
        "# Number of Trotter steps for time evolution\n",
        "n_trotter_steps = 5\n",
        "# Trotter order (1 for first-order, 2 for second-order)\n",
        "trotter_order = 2\n",
        "# Qubit Mapping\n",
        "mapping = \"jw\"\n",
        "\n",
        "backend = get_backend()\n",
        "\n",
        "# Qubit operator for LiH\n",
        "qu_op = f2q_mapping(mol_LiH.fermionic_hamiltonian, mapping, mol_LiH.n_active_sos,\n",
        "                     mol_LiH.n_active_electrons, up_then_down=False, spin=mol_LiH.spin)\n",
        "\n",
        "# Control qubit\n",
        "c_q = count_qubits(qu_op)\n",
        "\n",
        "# Operator that measures off-diagonal matrix elements i.e. 2|0><1|\n",
        "zeroone = (QubitOperator(f\"X{c_q}\", 1) + QubitOperator(f\"Y{c_q}\", 1j))\n",
        "\n",
        "# Controlled unitaries for each term in qu_op\n",
        "c_qu = controlled_pauliwords(qubit_op=qu_op, control=c_q, n_qubits=5)\n",
        "\n",
        "# Controlled time-evolution of qu_op with second-order Trotter-Suzuki decomposition\n",
        "c_trott = trotterize(qu_op, time=tau, n_trotter_steps=n_trotter_steps, trotter_order=trotter_order, control=4)\n",
        "\n",
        "# Generate multiple controlled-reference states.\n",
        "reference_states = list()\n",
        "reference_vecs = [[1, 1, 0, 0], [1, 0, 0, 1]]\n",
        "for vec in reference_vecs:\n",
        "    circ = vector_to_circuit(vec)\n",
        "    gates = [Gate(\"C\"+gate.name, target=gate.target, control=4) for gate in circ]\n",
        "    reference_states += [Circuit(gates)]\n",
        "\n",
        "# Calculate MRSQK\n",
        "sab = np.zeros((n_krylov, n_krylov), dtype=complex)\n",
        "hab = np.zeros((n_krylov, n_krylov), dtype=complex)\n",
        "fhab = np.zeros((n_krylov, n_krylov), dtype=complex)\n",
        "\n",
        "for a, b in product(range(n_krylov), range(n_krylov)):\n",
        "    # Generate Ua and Ub unitaries with Trotter steps\n",
        "    ua = reference_states[a%2] + c_trott * (a//2) if a > 1 else reference_states[a%2]\n",
        "    ub = reference_states[b%2] + c_trott * (b//2) if b > 1 else reference_states[b%2]\n",
        "\n",
        "    # Build circuit for off-diagonal overlap\n",
        "    hab_circuit = Circuit([Gate(\"H\", c_q)]) + ua + Circuit([Gate(\"X\", c_q)]) + ub\n",
        "    sab[a, b] = backend.get_expectation_value(zeroone, hab_circuit) / 2\n",
        "    sab[b, a] = sab[a, b].conj()\n",
        "\n",
        "    # Hamiltonian matrix element for f(H) = e^{-i H \\tau}\n",
        "    fhab[a, b] = backend.get_expectation_value(zeroone, hab_circuit + c_trott.inverse()) / 2\n",
        "    print(f\"Expectation value: {fhab[a,b]}\")\n",
        "\n",
        "    # Return statevector for faster calculation of Hamiltonian matrix elements\n",
        "    _, initial_state = backend.simulate(hab_circuit, return_statevector=True)\n",
        "    for i, (term, coeff) in enumerate(qu_op.terms.items()):\n",
        "\n",
        "        # Append controlled-pauliword for each term in Hamiltonian and measure zeroone\n",
        "        expect = coeff * backend.get_expectation_value(zeroone, c_qu[i], initial_statevector=initial_state) / 2\n",
        "\n",
        "        # Add term to sum\n",
        "        hab[a, b] += expect\n",
        "\n",
        "# Solve the eigenvalue problem HV=SVE\n",
        "e, v = eigh(hab, sab)\n",
        "print(f\"The HV=SVE energies are {e}\")\n",
        "\n",
        "# Solve for f(H)V=SVf(E) energies using f(H)\n",
        "e = eigvals(fhab, sab)\n",
        "print(f\"The f(H)V=SVf(E) energies are {np.arctan2(np.imag(e), np.real(e))/tau}\")\n",
        "\n",
        "# Record algorithm resources used\n",
        "algorithm_resources[\"mrsqk\"] = dict()\n",
        "algorithm_resources[\"mrsqk\"][\"qubit_hamiltonian_terms\"] = len(qu_op.terms)\n",
        "algorithm_resources[\"mrsqk\"][\"circuit_2qubit_gates\"] = hab_circuit.counts.get(\"CNOT\", 0)\n",
        "algorithm_resources[\"mrsqk\"][\"n_post_terms\"] = n_krylov**2\n",
        "\n"
      ],
      "metadata": {
        "id": "l1ikr3EM2mqf"
      },
      "execution_count": null,
      "outputs": []
    },
    {
      "cell_type": "code",
      "source": [
        "\n",
        "def calculate_overlap(state1, state2):\n",
        "    return np.abs(np.dot(np.conjugate(state1), state2))**2\n",
        "\n",
        "overlap_ground = calculate_overlap(result, evolved_ground_state)\n",
        "overlap_excited = calculate_overlap(excited_state, evolved_excited_state)"
      ],
      "metadata": {
        "id": "1F7NHcFTTLWF"
      },
      "execution_count": null,
      "outputs": []
    },
    {
      "cell_type": "markdown",
      "source": [
        "Plot the time occupancy. (we can make this prettier)"
      ],
      "metadata": {
        "id": "OjRi_CsG20_I"
      }
    },
    {
      "cell_type": "code",
      "source": [
        "import numpy as np\n",
        "import matplotlib.pyplot as plt\n",
        "from tangelo.toolboxes.operators import QubitOperator\n",
        "\n",
        "# Assuming your previous Trotter-Suzuki implementation works and evolves states as you desire.\n",
        "# This includes functions like trotterize, f2q_mapping, and the definition of your Hamiltonian (qu_op).\n",
        "\n",
        "# Parameters for time evolution\n",
        "time_steps = 100  # Number of time steps\n",
        "total_time = 10.0  # Total time for evolution\n",
        "tau = total_time / time_steps  # Time step for each slice\n",
        "\n",
        "# Lists to store the ground and excited state occupancies over time\n",
        "groundstate_occupancy = []\n",
        "excitedstate_occupancy = []\n",
        "\n",
        "# Time values for plotting\n",
        "time_values = np.linspace(0, total_time, time_steps)\n",
        "\n",
        "# Function to calculate the overlap between two quantum states\n",
        "def calculate_overlap(state1, state2):\n",
        "    return np.abs(np.dot(np.conjugate(state1), state2)) ** 2\n",
        "\n",
        "# Manually evolve states using the previously defined Trotter-Suzuki time evolution\n",
        "for t in time_values:\n",
        "    # Assuming ground_state and excited_state are defined from VQE or initial states\n",
        "    evolved_ground_state = trotterize(qu_op, time=t, n_trotter_steps=1, trotter_order=1).evolve(ground_state, tau)\n",
        "    evolved_excited_state = trotterize(qu_op, time=t, n_trotter_steps=1, trotter_order=1).evolve(excited_state, tau)\n",
        "\n",
        "    # Calculate overlap with original states\n",
        "    overlap_ground = calculate_overlap(ground_state, evolved_ground_state)\n",
        "    overlap_excited = calculate_overlap(excited_state, evolved_excited_state)\n",
        "\n",
        "    # Store occupancies (overlaps)\n",
        "    groundstate_occupancy.append(overlap_ground)\n",
        "    excitedstate_occupancy.append(overlap_excited)\n",
        "\n",
        "# Plotting the results\n",
        "plt.plot(time_values, groundstate_occupancy, label=\"Ground State\")\n",
        "plt.plot(time_values, excitedstate_occupancy, label=\"Excited State\")\n",
        "plt.xlabel(\"Time\")\n",
        "plt.ylabel(\"Occupancy\")\n",
        "plt.legend()\n",
        "plt.show()\n"
      ],
      "metadata": {
        "id": "_xDeIzzl2rob"
      },
      "execution_count": null,
      "outputs": []
    }
  ]
}